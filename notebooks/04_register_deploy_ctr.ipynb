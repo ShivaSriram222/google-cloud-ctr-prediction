{
 "cells": [
  {
   "cell_type": "markdown",
   "id": "3b46e6d1-be6b-431f-abf2-d12523e1f3a6",
   "metadata": {},
   "source": [
    "### Model registry and Endpoint deployment "
   ]
  },
  {
   "cell_type": "code",
   "execution_count": 11,
   "id": "467ce241-7905-4524-a1e8-e6235f8e1412",
   "metadata": {
    "tags": []
   },
   "outputs": [
    {
     "name": "stdout",
     "output_type": "stream",
     "text": [
      "Undeploying: 8135566909379706880 ctr_xgb_v2_named\n",
      "Deploying model: projects/87568676021/locations/us-central1/models/5156510522664812544\n",
      "Deployed. Now serving: [('8498106679383031808', 'ctr_xgb_v2_named')]\n"
     ]
    }
   ],
   "source": [
    "from google.cloud import aiplatform\n",
    "from google.api_core.exceptions import FailedPrecondition\n",
    "\n",
    "PROJECT          = \"click-through-rate-prediction\"\n",
    "REGION           = \"us-central1\"\n",
    "ENDPOINT_DISPLAY = \"ctr_xgb_endpoint\"   # same as earlier\n",
    "\n",
    "aiplatform.init(project=PROJECT, location=REGION)\n",
    "\n",
    "# Find endpoint by display name (created earlier)\n",
    "endpoint = [e for e in aiplatform.Endpoint.list() if e.display_name == ENDPOINT_DISPLAY][0]\n",
    "\n",
    "# 1) Undeploy everything currently there (keeps the endpoint)\n",
    "for dep in endpoint.list_models():\n",
    "    try:\n",
    "        print(\"Undeploying:\", dep.id, dep.display_name)\n",
    "        endpoint.undeploy(deployed_model_id=dep.id)\n",
    "    except FailedPrecondition as e:\n",
    "        print(\"Skip undeploy:\", e)\n",
    "\n",
    "# 2) Deploy the *latest uploaded* model by display name\n",
    "MODEL_DISPLAY = \"ctr_xgb_v2_named\"  # same name you used when uploading\n",
    "# Pick the most recent resource with that display name\n",
    "models = sorted(\n",
    "    [m for m in aiplatform.Model.list(filter=f'display_name=\"{MODEL_DISPLAY}\"')],\n",
    "    key=lambda m: m.create_time,\n",
    "    reverse=True\n",
    ")\n",
    "model = models[0]\n",
    "print(\"Deploying model:\", model.resource_name)\n",
    "\n",
    "model.deploy(\n",
    "    endpoint=endpoint,\n",
    "    machine_type=\"n1-standard-2\",\n",
    "    min_replica_count=1,\n",
    "    max_replica_count=1,\n",
    "    traffic_percentage=100,\n",
    ")\n",
    "print(\"Deployed. Now serving:\", [(m.id, m.display_name) for m in endpoint.list_models()])\n"
   ]
  },
  {
   "cell_type": "code",
   "execution_count": null,
   "id": "5640ef27-5e37-47ba-be79-9fffeb597931",
   "metadata": {},
   "outputs": [],
   "source": []
  },
  {
   "cell_type": "code",
   "execution_count": 16,
   "id": "8eb1d37a-cfbb-4a7c-96db-de718a2047d6",
   "metadata": {
    "tags": []
   },
   "outputs": [
    {
     "name": "stdout",
     "output_type": "stream",
     "text": [
      "ctr_xgb_endpoint → projects/87568676021/locations/us-central1/endpoints/2995591942085017600\n"
     ]
    }
   ],
   "source": [
    "from google.cloud import aiplatform\n",
    "PROJECT=\"click-through-rate-prediction\"; REGION=\"us-central1\"\n",
    "\n",
    "aiplatform.init(project=PROJECT, location=REGION)\n",
    "eps = aiplatform.Endpoint.list()\n",
    "for e in eps:\n",
    "    print(e.display_name, \"→\", e.resource_name)\n"
   ]
  },
  {
   "cell_type": "code",
   "execution_count": 17,
   "id": "684b1c24-e44b-47c3-ac2f-0cb2dc86d6cf",
   "metadata": {
    "tags": []
   },
   "outputs": [
    {
     "name": "stdout",
     "output_type": "stream",
     "text": [
      "Deployed models: [('8498106679383031808', 'projects/87568676021/locations/us-central1/models/5156510522664812544', 'ctr_xgb_v2_named')]\n"
     ]
    }
   ],
   "source": [
    "endpoint = [e for e in aiplatform.Endpoint.list() if e.display_name==\"ctr_xgb_endpoint\"][0]\n",
    "print(\"Deployed models:\", [(m.id, m.model, m.display_name) for m in endpoint.list_models()])\n"
   ]
  },
  {
   "cell_type": "code",
   "execution_count": null,
   "id": "f1c83983-9e46-4e9f-86a7-ba37eacdf74b",
   "metadata": {
    "tags": []
   },
   "outputs": [],
   "source": []
  },
  {
   "cell_type": "code",
   "execution_count": null,
   "id": "ded220e9-358f-4081-987a-02dabf5d8169",
   "metadata": {},
   "outputs": [],
   "source": []
  }
 ],
 "metadata": {
  "environment": {
   "kernel": "conda-base-py",
   "name": "workbench-notebooks.m133",
   "type": "gcloud",
   "uri": "us-docker.pkg.dev/deeplearning-platform-release/gcr.io/workbench-notebooks:m133"
  },
  "kernelspec": {
   "display_name": "Python 3 (ipykernel) (Local)",
   "language": "python",
   "name": "conda-base-py"
  },
  "language_info": {
   "codemirror_mode": {
    "name": "ipython",
    "version": 3
   },
   "file_extension": ".py",
   "mimetype": "text/x-python",
   "name": "python",
   "nbconvert_exporter": "python",
   "pygments_lexer": "ipython3",
   "version": "3.10.18"
  }
 },
 "nbformat": 4,
 "nbformat_minor": 5
}
